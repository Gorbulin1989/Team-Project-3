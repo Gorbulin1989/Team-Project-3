{
 "cells": [
  {
   "cell_type": "code",
   "execution_count": 16,
   "metadata": {},
   "outputs": [],
   "source": [
    "import requests\n",
    "import pandas as pd\n",
    "from config import api_key"
   ]
  },
  {
   "cell_type": "code",
   "execution_count": 17,
   "metadata": {},
   "outputs": [],
   "source": [
    "# Top 10 world cities\n",
    "CITIES = [\n",
    "    {\"city\": \"Tokyo\", \"lat\": 35.6895, \"lon\": 139.6917, \"population\": 13929286},\n",
    "    {\"city\": \"Delhi\", \"lat\": 28.7041, \"lon\": 77.1025, \"population\": 27882721},\n",
    "    {\"city\": \"Shanghai\", \"lat\": 31.2304, \"lon\": 121.4737, \"population\": 24256800},\n",
    "    {\"city\": \"São Paulo\", \"lat\": -23.5505, \"lon\": -46.6333, \"population\": 21571281},\n",
    "    {\"city\": \"Mumbai\", \"lat\": 19.0760, \"lon\": 72.8777, \"population\": 21558265},\n",
    "    {\"city\": \"Mexico City\", \"lat\": 19.4326, \"lon\": -99.1332, \"population\": 21782378},\n",
    "    {\"city\": \"Beijing\", \"lat\": 39.9042, \"lon\": 116.4074, \"population\": 21516000},\n",
    "    {\"city\": \"Osaka\", \"lat\": 34.6937, \"lon\": 135.5023, \"population\": 19222665},\n",
    "    {\"city\": \"New York\", \"lat\": 40.7128, \"lon\": -74.0060, \"population\": 18804000},\n",
    "    {\"city\": \"Cairo\", \"lat\": 30.0444, \"lon\": 31.2357, \"population\": 20095952}\n",
    "  ]"
   ]
  },
  {
   "cell_type": "code",
   "execution_count": 20,
   "metadata": {},
   "outputs": [],
   "source": [
    "# Create an empty list to store air pollution data for each city\n",
    "weather_data_list = []\n",
    "\n",
    "# Loop through the cities and make API calls for historical air pollution data\n",
    "for city in CITIES:\n",
    "    lat = city[\"lat\"]\n",
    "    lon = city[\"lon\"]\n",
    "    city_name = city[\"city\"]\n",
    "\n",
    "    # Set the start and end dates for historical data\n",
    "    start = 1641016800  # Start date 01-01-2022\n",
    "    end = 1672552799  #  End date 31-12-2022\n",
    "\n",
    "    # Make API call\n",
    "    url = f\"https://history.openweathermap.org/data/2.5/history/city?lat={lat}&lon={lon}&type=hour&start={start}&end={end}&appid={api_key}\"\n",
    "    response = requests.get(url)\n",
    "\n",
    "    # Check if API call was successful\n",
    "    if response.status_code == 200:\n",
    "        # Extract air pollution data from response\n",
    "        weather_data = response.json()\n",
    "\n",
    "        # Append the air pollution data for this city to the final list\n",
    "        #weather_data_list.append(weather_data)"
   ]
  },
  {
   "cell_type": "code",
   "execution_count": 25,
   "metadata": {},
   "outputs": [
    {
     "data": {
      "text/plain": [
       "401"
      ]
     },
     "execution_count": 25,
     "metadata": {},
     "output_type": "execute_result"
    }
   ],
   "source": [
    "response.status_code"
   ]
  }
 ],
 "metadata": {
  "kernelspec": {
   "display_name": "base",
   "language": "python",
   "name": "python3"
  },
  "language_info": {
   "codemirror_mode": {
    "name": "ipython",
    "version": 3
   },
   "file_extension": ".py",
   "mimetype": "text/x-python",
   "name": "python",
   "nbconvert_exporter": "python",
   "pygments_lexer": "ipython3",
   "version": "3.9.13"
  },
  "orig_nbformat": 4
 },
 "nbformat": 4,
 "nbformat_minor": 2
}
