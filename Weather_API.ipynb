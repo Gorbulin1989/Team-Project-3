{
 "cells": [
  {
   "cell_type": "code",
   "execution_count": null,
   "metadata": {},
   "outputs": [],
   "source": [
    "import requests\n",
    "import pandas as pd\n",
    "from config import api_key\n"
   ]
  },
  {
   "cell_type": "code",
   "execution_count": null,
   "metadata": {},
   "outputs": [],
   "source": [
    "# Top 10 world cities\n",
    "CITIES = [\n",
    "    {\"city\": \"Tokyo\", \"lat\": 35.6895, \"lon\": 139.6917, \"population\": 13929286},\n",
    "    {\"city\": \"Delhi\", \"lat\": 28.7041, \"lon\": 77.1025, \"population\": 27882721},\n",
    "    {\"city\": \"Shanghai\", \"lat\": 31.2304, \"lon\": 121.4737, \"population\": 24256800},\n",
    "    {\"city\": \"São Paulo\", \"lat\": -23.5505, \"lon\": -46.6333, \"population\": 21571281},\n",
    "    {\"city\": \"Mumbai\", \"lat\": 19.0760, \"lon\": 72.8777, \"population\": 21558265},\n",
    "    {\"city\": \"Mexico City\", \"lat\": 19.4326, \"lon\": -99.1332, \"population\": 21782378},\n",
    "    {\"city\": \"Beijing\", \"lat\": 39.9042, \"lon\": 116.4074, \"population\": 21516000},\n",
    "    {\"city\": \"Osaka\", \"lat\": 34.6937, \"lon\": 135.5023, \"population\": 19222665},\n",
    "    {\"city\": \"New York\", \"lat\": 40.7128, \"lon\": -74.0060, \"population\": 18804000},\n",
    "    {\"city\": \"Cairo\", \"lat\": 30.0444, \"lon\": 31.2357, \"population\": 20095952}\n",
    "  ]"
   ]
  },
  {
   "cell_type": "code",
   "execution_count": null,
   "metadata": {},
   "outputs": [],
   "source": [
    "\n",
    "# Create an empty list to store air pollution data for each city\n",
    "air_pollution_data_list = []\n",
    "\n",
    "# Loop through the cities and make API calls for historical air pollution data\n",
    "for city in CITIES:\n",
    "    lat = city[\"lat\"]\n",
    "    lon = city[\"lon\"]\n",
    "    city_name = city[\"city\"]\n",
    "\n",
    "    # Set the start and end dates for historical data\n",
    "    start = 1641016800  # Start date 01-01-2022\n",
    "    end = 1672552799  #  End date 31-12-2022\n",
    "\n",
    "    # Make API call\n",
    "    url = f\"http://api.openweathermap.org/data/2.5/air_pollution/history?lat={lat}&lon={lon}&start={start}&end={end}&appid={api_key}\"\n",
    "    response = requests.get(url)\n",
    "\n",
    "    # Check if API call was successful\n",
    "    if response.status_code == 200:\n",
    "        # Extract air pollution data from response\n",
    "        air_pollution_data = response.json()\n",
    "\n",
    "        # Append the air pollution data for this city to the final list\n",
    "        air_pollution_data_list.append(air_pollution_data)\n",
    "    "
   ]
  },
  {
   "cell_type": "code",
   "execution_count": null,
   "metadata": {},
   "outputs": [],
   "source": [
    "air_pollution_df = pd.json_normalize(air_pollution_data_list,record_path=\"list\", meta=['coord'])\n",
    "air_pollution_df"
   ]
  },
  {
   "cell_type": "code",
   "execution_count": null,
   "metadata": {},
   "outputs": [],
   "source": [
    "air_pollution_df.columns"
   ]
  },
  {
   "cell_type": "code",
   "execution_count": null,
   "metadata": {},
   "outputs": [],
   "source": [
    "air_pollution_df"
   ]
  },
  {
   "cell_type": "code",
   "execution_count": null,
   "metadata": {},
   "outputs": [],
   "source": [
    "# Define a function to split 'coord' column into 'longitude' and 'latitude'\n",
    "def split_coord(coord):\n",
    "    return pd.Series([coord['lon'],coord['lat']])\n",
    "\n",
    "# Apply the function to 'coord' column to create 'longitude' and 'latitude' columns\n",
    "air_pollution_df[['longitude', 'latitude']] = air_pollution_df['coord'].apply(split_coord)\n",
    "\n",
    "# Drop the original 'coord' column\n",
    "air_pollution_df.drop('coord',axis=1,inplace=True)"
   ]
  },
  {
   "cell_type": "code",
   "execution_count": null,
   "metadata": {},
   "outputs": [],
   "source": [
    "cities_df = pd.DataFrame(CITIES)\n",
    "cities_df.columns"
   ]
  },
  {
   "cell_type": "code",
   "execution_count": null,
   "metadata": {},
   "outputs": [],
   "source": [
    "new_columns_name = ['city', 'latitude', 'longitude', 'population']\n",
    "cities_df.columns= new_columns_name\n",
    "cities_df"
   ]
  },
  {
   "cell_type": "code",
   "execution_count": null,
   "metadata": {},
   "outputs": [],
   "source": [
    "air_pollution_df = pd.merge(air_pollution_df,cities_df, left_on='latitude',right_on='latitude')\n"
   ]
  },
  {
   "cell_type": "code",
   "execution_count": null,
   "metadata": {},
   "outputs": [],
   "source": [
    "#air_pollution_df.drop('longitude_y',axis=1,inplace=True)\n",
    "air_pollution_df"
   ]
  },
  {
   "cell_type": "code",
   "execution_count": null,
   "metadata": {},
   "outputs": [],
   "source": [
    "air_pollution_df['dt'] = pd.to_datetime(air_pollution_df['dt'],unit='s',origin='unix')\n",
    "air_pollution_df['dt'] = air_pollution_df['dt'].dt.strftime('%Y-%m-%d')"
   ]
  },
  {
   "cell_type": "code",
   "execution_count": null,
   "metadata": {},
   "outputs": [],
   "source": [
    "air_pollution_df.drop('longitude_y',axis=1,inplace=True)\n"
   ]
  },
  {
   "cell_type": "code",
   "execution_count": null,
   "metadata": {},
   "outputs": [],
   "source": [
    "updated_pollution_df = air_pollution_df\n"
   ]
  },
  {
   "cell_type": "code",
   "execution_count": null,
   "metadata": {},
   "outputs": [],
   "source": [
    "updated_pollution_df = updated_pollution_df.rename(columns={'dt':'date', 'city':'city', 'longitude_x':'longitude', 'latitude':'latitude', 'main.aqi':'AQI', 'components.co':'CO', 'components.no':'NO', 'components.no2':'NO2',\n",
    "       'components.o3':'O3', 'components.so2':'SO2', 'components.pm2_5':'PM2_5', 'components.pm10':'PM10', 'components.nh3':'NH3', 'population':'population'})"
   ]
  },
  {
   "cell_type": "code",
   "execution_count": null,
   "metadata": {},
   "outputs": [],
   "source": [
    "updated_pollution_df = updated_pollution_df[['date','longitude', 'latitude', 'city', 'population', 'AQI', 'CO', 'NO', 'NO2', 'O3', 'SO2', 'PM2_5', 'PM10', 'NH3',\n",
    "       ]]\n",
    "updated_pollution_df.sort_values(by='date')\n"
   ]
  },
  {
   "cell_type": "code",
   "execution_count": null,
   "metadata": {},
   "outputs": [],
   "source": [
    "updated_pollution_df.to_csv('air_pollution.csv')"
   ]
  },
  {
   "cell_type": "code",
   "execution_count": null,
   "metadata": {},
   "outputs": [],
   "source": [
    "import glob\n"
   ]
  },
  {
   "cell_type": "code",
   "execution_count": null,
   "metadata": {},
   "outputs": [],
   "source": [
    "# path where the CSV files are located\n",
    "path = r'City_csv'"
   ]
  },
  {
   "cell_type": "code",
   "execution_count": null,
   "metadata": {},
   "outputs": [],
   "source": [
    "# get a list of all CSV files in the directory\n",
    "all_files = glob.glob(path + \"/*.csv\")"
   ]
  },
  {
   "cell_type": "code",
   "execution_count": null,
   "metadata": {},
   "outputs": [],
   "source": [
    "# combine all CSV files into one dataframe\n",
    "df = pd.concat((pd.read_csv(f) for f in all_files))"
   ]
  },
  {
   "cell_type": "code",
   "execution_count": null,
   "metadata": {},
   "outputs": [],
   "source": [
    "# write the combined data to a new CSV file\n",
    "df.to_csv(\"combined_data.csv\", index=False)"
   ]
  },
  {
   "cell_type": "code",
   "execution_count": null,
   "metadata": {},
   "outputs": [],
   "source": [
    "weather_data = pd.read_csv(\"combined_data.csv\")"
   ]
  },
  {
   "cell_type": "code",
   "execution_count": null,
   "metadata": {},
   "outputs": [],
   "source": [
    "weather_data_df = pd.DataFrame(weather_data)"
   ]
  },
  {
   "cell_type": "code",
   "execution_count": null,
   "metadata": {},
   "outputs": [],
   "source": [
    "updated_pollution_df"
   ]
  },
  {
   "cell_type": "code",
   "execution_count": null,
   "metadata": {},
   "outputs": [],
   "source": [
    "weather_data_df"
   ]
  },
  {
   "cell_type": "code",
   "execution_count": null,
   "metadata": {},
   "outputs": [],
   "source": [
    "updated_500 = updated_pollution_df.head(500)\n",
    "weather_500 = weather_data_df.head(500)"
   ]
  },
  {
   "cell_type": "code",
   "execution_count": null,
   "metadata": {},
   "outputs": [],
   "source": [
    "data_merged = pd.merge(updated_500,weather_500, on=['longitude', 'latitude'], how='left')"
   ]
  }
 ],
 "metadata": {
  "kernelspec": {
   "display_name": "base",
   "language": "python",
   "name": "python3"
  },
  "language_info": {
   "codemirror_mode": {
    "name": "ipython",
    "version": 3
   },
   "file_extension": ".py",
   "mimetype": "text/x-python",
   "name": "python",
   "nbconvert_exporter": "python",
   "pygments_lexer": "ipython3",
   "version": "3.9.13"
  },
  "orig_nbformat": 4
 },
 "nbformat": 4,
 "nbformat_minor": 2
}
